{
 "cells": [
  {
   "cell_type": "markdown",
   "metadata": {},
   "source": [
    "# 🛠️ Configuración del Entorno Python\n",
    "\n",
    "¡Bienvenido a tu primer notebook de Jupyter! En esta sesión aprenderemos cómo configurar correctamente nuestro entorno de trabajo para programar en Python.\n",
    "\n",
    "## ✅ Objetivos\n",
    "- Verificar la instalación de Python\n",
    "- Conocer Jupyter Notebook\n",
    "- Configurar el workspace\n",
    "- Ejecutar nuestro primer código\n"
   ]
  },
  {
   "cell_type": "markdown",
   "metadata": {},
   "source": [
    "## 1. Verificación de la Instalación de Python\n",
    "\n",
    "Primero vamos a verificar que Python esté correctamente instalado en nuestro sistema."
   ]
  },
  {
   "cell_type": "code",
   "execution_count": null,
   "metadata": {},
   "outputs": [],
   "source": [
    "# Verificar la versión de Python instalada\n",
    "import sys\n",
    "\n",
    "print(\"🐍 Información de Python:\")\n",
    "print(f\"   Versión: {sys.version}\")\n",
    "print(f\"   Versión corta: {sys.version_info.major}.{sys.version_info.minor}.{sys.version_info.micro}\")\n",
    "print(f\"   Ejecutable: {sys.executable}\")"
   ]
  },
  {
   "cell_type": "markdown",
   "metadata": {},
   "source": [
    "## 2. ¿Qué es Jupyter Notebook?\n",
    "\n",
    "Jupyter Notebook es una aplicación web que permite crear y compartir documentos que contienen:\n",
    "- **Código** ejecutable\n",
    "- **Texto** explicativo (como este)\n",
    "- **Visualizaciones** y gráficos\n",
    "- **Ecuaciones** matemáticas\n",
    "\n",
    "### Tipos de Celdas\n",
    "1. **Celdas de Código**: Contienen código Python ejecutable\n",
    "2. **Celdas de Markdown**: Contienen texto formateado como este\n",
    "3. **Celdas Raw**: Texto sin formato (menos común)"
   ]
  },
  {
   "cell_type": "markdown",
   "metadata": {},
   "source": [
    "## 3. Atajos de Teclado Útiles\n",
    "\n",
    "Aquí tienes algunos atajos que te ayudarán a ser más eficiente:\n",
    "\n",
    "### Modo Comando (presiona Esc para activar):\n",
    "- `A`: Insertar celda arriba\n",
    "- `B`: Insertar celda abajo\n",
    "- `DD`: Eliminar celda\n",
    "- `M`: Cambiar a celda Markdown\n",
    "- `Y`: Cambiar a celda de código\n",
    "\n",
    "### Modo Edición (presiona Enter para activar):\n",
    "- `Shift + Enter`: Ejecutar celda y pasar a la siguiente\n",
    "- `Ctrl + Enter`: Ejecutar celda actual\n",
    "- `Alt + Enter`: Ejecutar celda e insertar nueva abajo"
   ]
  },
  {
   "cell_type": "markdown",
   "metadata": {},
   "source": [
    "## 4. ¡Nuestro Primer Código!\n",
    "\n",
    "Vamos a ejecutar nuestro primer programa en Python. Es una tradición empezar con \"¡Hola Mundo!\"."
   ]
  },
  {
   "cell_type": "code",
   "execution_count": null,
   "metadata": {},
   "outputs": [],
   "source": [
    "# Nuestro primer programa en Python\n",
    "print(\"¡Hola Mundo!\")\n",
    "print(\"¡Bienvenido al curso de Python para Data Analytics!\")"
   ]
  },
  {
   "cell_type": "markdown",
   "metadata": {},
   "source": [
    "## 5. Verificando las Librerías Instaladas\n",
    "\n",
    "Vamos a verificar que las librerías principales estén instaladas correctamente:"
   ]
  },
  {
   "cell_type": "code",
   "execution_count": null,
   "metadata": {},
   "outputs": [],
   "source": [
    "# Lista de librerías a verificar\n",
    "librerias = ['pandas', 'numpy', 'matplotlib', 'seaborn']\n",
    "\n",
    "print(\"📚 Verificando librerías instaladas:\")\n",
    "print(\"-\" * 40)\n",
    "\n",
    "for libreria in librerias:\n",
    "    try:\n",
    "        # Intentar importar la librería\n",
    "        __import__(libreria)\n",
    "        print(f\"✅ {libreria}: Instalada correctamente\")\n",
    "    except ImportError:\n",
    "        print(f\"❌ {libreria}: NO encontrada\")"
   ]
  },
  {
   "cell_type": "markdown",
   "metadata": {},
   "source": [
    "## 6. Ejercicio Práctico: Tu Primera Interacción\n",
    "\n",
    "Ahora es tu turno. Vamos a crear un pequeño programa que:\n",
    "1. Te pida tu nombre\n",
    "2. Te salude personalmente\n",
    "3. Te dé la bienvenida al curso"
   ]
  },
  {
   "cell_type": "code",
   "execution_count": null,
   "metadata": {},
   "outputs": [],
   "source": [
    "# TODO: Completa este código para que funcione correctamente\n",
    "\n",
    "# Pedir el nombre al usuario\n",
    "nombre = input(\"¿Cuál es tu nombre? \")\n",
    "\n",
    "# Saludar al usuario\n",
    "print(f\"¡Hola {nombre}!\")\n",
    "print(f\"Bienvenido/a al curso de Python, {nombre}\")\n",
    "print(\"¡Esperamos que disfrutes aprendiendo!\")"
   ]
  },
  {
   "cell_type": "markdown",
   "metadata": {},
   "source": [
    "## 7. Conceptos Básicos que Acabamos de Usar\n",
    "\n",
    "Sin darte cuenta, ya has utilizado varios conceptos importantes de Python:\n",
    "\n",
    "### Variables\n",
    "```python\n",
    "nombre = input(\"¿Cuál es tu nombre? \")\n",
    "```\n",
    "`nombre` es una **variable** que almacena el texto que ingresa el usuario.\n",
    "\n",
    "### Funciones\n",
    "```python\n",
    "print(\"Hola\")\n",
    "input(\"¿Cuál es tu nombre? \")\n",
    "```\n",
    "`print()` e `input()` son **funciones** que realizan tareas específicas.\n",
    "\n",
    "### Strings (Cadenas de texto)\n",
    "```python\n",
    "\"¡Hola Mundo!\"\n",
    "```\n",
    "El texto entre comillas son **strings** o cadenas de caracteres.\n",
    "\n",
    "### F-strings (Formateo de texto)\n",
    "```python\n",
    "f\"¡Hola {nombre}!\"\n",
    "```\n",
    "Los **f-strings** nos permiten insertar variables dentro de texto."
   ]
  },
  {
   "cell_type": "markdown",
   "metadata": {},
   "source": [
    "## 🎯 Ejercicio de Verificación\n",
    "\n",
    "Para asegurarnos de que todo funciona correctamente, ejecuta el siguiente código:"
   ]
  },
  {
   "cell_type": "code",
   "execution_count": null,
   "metadata": {},
   "outputs": [],
   "source": [
    "# Verificación final del entorno\n",
    "print(\"🔍 Verificación Final del Entorno\")\n",
    "print(\"=\" * 35)\n",
    "\n",
    "# Verificar Python\n",
    "print(f\"✅ Python {sys.version_info.major}.{sys.version_info.minor} funcionando\")\n",
    "\n",
    "# Verificar Jupyter\n",
    "print(\"✅ Jupyter Notebook funcionando\")\n",
    "\n",
    "# Mostrar fecha y hora\n",
    "from datetime import datetime\n",
    "ahora = datetime.now()\n",
    "print(f\"📅 Fecha: {ahora.strftime('%Y-%m-%d %H:%M:%S')}\")\n",
    "\n",
    "print(\"\\n🎉 ¡Tu entorno está listo para programar en Python!\")"
   ]
  },
  {
   "cell_type": "markdown",
   "metadata": {},
   "source": [
    "## 📝 Resumen de la Sesión\n",
    "\n",
    "En esta primera parte hemos:\n",
    "\n",
    "✅ Verificado que Python está instalado correctamente  \n",
    "✅ Aprendido qué es Jupyter Notebook  \n",
    "✅ Ejecutado nuestro primer código Python  \n",
    "✅ Usado variables y funciones básicas  \n",
    "✅ Configurado nuestro entorno de trabajo  \n",
    "\n",
    "## 🚀 ¿Qué sigue?\n",
    "\n",
    "En el siguiente notebook ([02_Fundamentos_Python.ipynb](02_Fundamentos_Python.ipynb)) profundizaremos en:\n",
    "- Sintaxis básica de Python\n",
    "- Variables y tipos de datos\n",
    "- Operadores básicos\n",
    "- Más funciones útiles\n",
    "\n",
    "---\n",
    "\n",
    "**¡Felicidades por completar tu primera configuración! 🎊**"
   ]
  }
 ],
 "metadata": {
  "kernelspec": {
   "display_name": "Python 3",
   "language": "python",
   "name": "python3"
  },
  "language_info": {
   "codemirror_mode": {
    "name": "ipython",
    "version": 3
   },
   "file_extension": ".py",
   "mimetype": "text/x-python",
   "name": "python",
   "nbconvert_exporter": "python",
   "pygments_lexer": "ipython3",
   "version": "3.8.0"
  }
 },
 "nbformat": 4,
 "nbformat_minor": 4
}