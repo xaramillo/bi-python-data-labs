{
 "cells": [
  {
   "cell_type": "markdown",
   "metadata": {},
   "source": [
    "# 🐍 Fundamentos de Python\n",
    "\n",
    "En este notebook exploraremos los conceptos fundamentales de Python que necesitas dominar para convertirte en un arquitecto de datos competente.\n",
    "\n",
    "## ✅ Objetivos\n",
    "- Comprender la sintaxis básica de Python\n",
    "- Trabajar con variables y operadores\n",
    "- Conocer los tipos de datos básicos\n",
    "- Practicar con funciones built-in\n",
    "- Escribir programas simples pero funcionales"
   ]
  },
  {
   "cell_type": "markdown",
   "metadata": {},
   "source": [
    "## 1. ¿Por qué Python?\n",
    "\n",
    "Python es uno de los lenguajes más populares para Data Analytics porque:\n",
    "\n",
    "✅ **Sintaxis clara y legible**: Fácil de aprender y mantener  \n",
    "✅ **Librerías poderosas**: pandas, numpy, matplotlib, etc.  \n",
    "✅ **Comunidad activa**: Mucha documentación y ayuda disponible  \n",
    "✅ **Versatilidad**: Web, data science, automatización, AI  \n",
    "✅ **Multiplataforma**: Funciona en Windows, Mac y Linux  \n",
    "\n",
    "### Historia rápida\n",
    "- Creado por Guido van Rossum en 1989\n",
    "- Nombrado por el grupo de comedia \"Monty Python\"\n",
    "- Filosofía: \"Simple es mejor que complejo\""
   ]
  },
  {
   "cell_type": "markdown",
   "metadata": {},
   "source": [
    "## 2. Sintaxis Básica de Python\n",
    "\n",
    "### Comentarios\n",
    "Los comentarios nos ayudan a documentar nuestro código:"
   ]
  },
  {
   "cell_type": "code",
   "execution_count": null,
   "metadata": {},
   "outputs": [],
   "source": [
    "# Este es un comentario de una línea\n",
    "print(\"Hola mundo\")  # También puedes poner comentarios al final de la línea\n",
    "\n",
    "\"\"\"\n",
    "Este es un comentario\n",
    "de múltiples líneas.\n",
    "Útil para explicaciones más largas.\n",
    "\"\"\"\n",
    "\n",
    "print(\"Los comentarios no se ejecutan\")"
   ]
  },
  {
   "cell_type": "markdown",
   "metadata": {},
   "source": [
    "### Indentación (¡MUY IMPORTANTE!)\n",
    "Python usa la indentación (espacios al inicio) para agrupar código:"
   ]
  },
  {
   "cell_type": "code",
   "execution_count": null,
   "metadata": {},
   "outputs": [],
   "source": [
    "# Ejemplo de indentación correcta\n",
    "edad = 25\n",
    "\n",
    "if edad >= 18:\n",
    "    print(\"Eres mayor de edad\")  # Esta línea está indentada\n",
    "    print(\"Puedes votar\")        # Esta también\n",
    "else:\n",
    "    print(\"Eres menor de edad\")  # Esta línea está indentada\n",
    "    print(\"Aún no puedes votar\") # Esta también\n",
    "\n",
    "print(\"Este mensaje siempre se muestra\")  # Sin indentación"
   ]
  },
  {
   "cell_type": "markdown",
   "metadata": {},
   "source": [
    "## 3. Variables en Python\n",
    "\n",
    "Las variables son como \"cajones\" donde guardamos información:"
   ]
  },
  {
   "cell_type": "code",
   "execution_count": null,
   "metadata": {},
   "outputs": [],
   "source": [
    "# Creando variables\n",
    "nombre = \"Ana García\"          # String (texto)\n",
    "edad = 28                     # Integer (número entero)\n",
    "salario = 45000.50           # Float (número decimal)\n",
    "es_empleado = True           # Boolean (verdadero/falso)\n",
    "\n",
    "# Mostrando el contenido\n",
    "print(\"Información del empleado:\")\n",
    "print(f\"Nombre: {nombre}\")\n",
    "print(f\"Edad: {edad} años\")\n",
    "print(f\"Salario: ${salario}\")\n",
    "print(f\"Es empleado activo: {es_empleado}\")"
   ]
  },
  {
   "cell_type": "markdown",
   "metadata": {},
   "source": [
    "### Reglas para Nombres de Variables\n",
    "\n",
    "✅ **Permitido**:\n",
    "- `nombre`, `edad`, `salario_anual`\n",
    "- `usuario1`, `dato_2023`\n",
    "- `_variable`, `mi_variable`\n",
    "\n",
    "❌ **NO permitido**:\n",
    "- `2variable` (no puede empezar con número)\n",
    "- `mi-variable` (no guiones)\n",
    "- `mi variable` (no espacios)\n",
    "- `for`, `if`, `while` (palabras reservadas)"
   ]
  },
  {
   "cell_type": "code",
   "execution_count": null,
   "metadata": {},
   "outputs": [],
   "source": [
    "# Ejemplos de nombres de variables siguiendo buenas prácticas\n",
    "nombre_completo = \"María José Rodríguez\"\n",
    "edad_empleado = 35\n",
    "salario_mensual = 3500.75\n",
    "tiene_hijos = False\n",
    "numero_hijos = 0\n",
    "\n",
    "print(\"Variables con nombres descriptivos:\")\n",
    "print(f\"Empleado: {nombre_completo}\")\n",
    "print(f\"Edad: {edad_empleado}\")\n",
    "print(f\"Salario mensual: ${salario_mensual}\")\n",
    "print(f\"Tiene hijos: {tiene_hijos}\")"
   ]
  },
  {
   "cell_type": "markdown",
   "metadata": {},
   "source": [
    "## 4. Tipos de Datos Básicos\n",
    "\n",
    "Python tiene varios tipos de datos fundamentales:"
   ]
  },
  {
   "cell_type": "code",
   "execution_count": null,
   "metadata": {},
   "outputs": [],
   "source": [
    "# Diferentes tipos de datos\n",
    "texto = \"Hola mundo\"           # str (string)\n",
    "entero = 42                   # int (integer)\n",
    "decimal = 3.14159            # float\n",
    "verdadero = True             # bool (boolean)\n",
    "falso = False                # bool (boolean)\n",
    "nada = None                  # NoneType (valor nulo)\n",
    "\n",
    "# Función type() nos dice el tipo de dato\n",
    "print(\"Tipos de datos:\")\n",
    "print(f\"'{texto}' es de tipo: {type(texto)}\")\n",
    "print(f\"'{entero}' es de tipo: {type(entero)}\")\n",
    "print(f\"'{decimal}' es de tipo: {type(decimal)}\")\n",
    "print(f\"'{verdadero}' es de tipo: {type(verdadero)}\")\n",
    "print(f\"'{nada}' es de tipo: {type(nada)}\")"
   ]
  },
  {
   "cell_type": "markdown",
   "metadata": {},
   "source": [
    "## 5. Operadores Básicos\n",
    "\n",
    "### Operadores Aritméticos"
   ]
  },
  {
   "cell_type": "code",
   "execution_count": null,
   "metadata": {},
   "outputs": [],
   "source": [
    "# Operadores aritméticos\n",
    "a = 10\n",
    "b = 3\n",
    "\n",
    "print(\"Operadores aritméticos:\")\n",
    "print(f\"{a} + {b} = {a + b}\")    # Suma\n",
    "print(f\"{a} - {b} = {a - b}\")    # Resta\n",
    "print(f\"{a} * {b} = {a * b}\")    # Multiplicación\n",
    "print(f\"{a} / {b} = {a / b}\")    # División\n",
    "print(f\"{a} // {b} = {a // b}\")  # División entera\n",
    "print(f\"{a} % {b} = {a % b}\")    # Módulo (resto)\n",
    "print(f\"{a} ** {b} = {a ** b}\")  # Exponente"
   ]
  },
  {
   "cell_type": "markdown",
   "metadata": {},
   "source": [
    "### Operadores de Comparación"
   ]
  },
  {
   "cell_type": "code",
   "execution_count": null,
   "metadata": {},
   "outputs": [],
   "source": [
    "# Operadores de comparación\n",
    "x = 5\n",
    "y = 10\n",
    "\n",
    "print(\"Operadores de comparación:\")\n",
    "print(f\"{x} == {y} es {x == y}\")  # Igual\n",
    "print(f\"{x} != {y} es {x != y}\")  # Diferente\n",
    "print(f\"{x} < {y} es {x < y}\")    # Menor que\n",
    "print(f\"{x} > {y} es {x > y}\")    # Mayor que\n",
    "print(f\"{x} <= {y} es {x <= y}\")  # Menor o igual\n",
    "print(f\"{x} >= {y} es {x >= y}\")  # Mayor o igual"
   ]
  },
  {
   "cell_type": "markdown",
   "metadata": {},
   "source": [
    "## 6. Funciones Built-in Útiles\n",
    "\n",
    "Python viene con muchas funciones incorporadas muy útiles:"
   ]
  },
  {
   "cell_type": "code",
   "execution_count": null,
   "metadata": {},
   "outputs": [],
   "source": [
    "# Función len() - longitud\n",
    "texto = \"Arquitecto de datos\"\n",
    "print(f\"La frase '{texto}' tiene {len(texto)} caracteres\")\n",
    "\n",
    "# Función abs() - valor absoluto\n",
    "numero_negativo = -15\n",
    "print(f\"El valor absoluto de {numero_negativo} es {abs(numero_negativo)}\")\n",
    "\n",
    "# Función round() - redondear\n",
    "precio = 45.6789\n",
    "print(f\"${precio} redondeado a 2 decimales: ${round(precio, 2)}\")\n",
    "\n",
    "# Función max() y min() - máximo y mínimo\n",
    "numeros = [23, 45, 12, 67, 34]\n",
    "print(f\"En la lista {numeros}:\")\n",
    "print(f\"   El máximo es: {max(numeros)}\")\n",
    "print(f\"   El mínimo es: {min(numeros)}\")"
   ]
  },
  {
   "cell_type": "markdown",
   "metadata": {},
   "source": [
    "## 7. 🎯 Ejercicios Prácticos\n",
    "\n",
    "### Ejercicio 1: Calculadora de Propinas"
   ]
  },
  {
   "cell_type": "code",
   "execution_count": null,
   "metadata": {},
   "outputs": [],
   "source": [
    "# TODO: Completa este programa para calcular propinas\n",
    "\n",
    "# Datos de entrada\n",
    "cuenta_total = 85.50\n",
    "porcentaje_propina = 15  # 15%\n",
    "numero_personas = 3\n",
    "\n",
    "# Cálculos\n",
    "propina = cuenta_total * (porcentaje_propina / 100)\n",
    "total_con_propina = cuenta_total + propina\n",
    "por_persona = total_con_propina / numero_personas\n",
    "\n",
    "# Mostrar resultados\n",
    "print(\"🧾 CALCULADORA DE PROPINAS\")\n",
    "print(\"=\" * 30)\n",
    "print(f\"Cuenta original: ${cuenta_total}\")\n",
    "print(f\"Propina ({porcentaje_propina}%): ${round(propina, 2)}\")\n",
    "print(f\"Total a pagar: ${round(total_con_propina, 2)}\")\n",
    "print(f\"Por persona ({numero_personas} personas): ${round(por_persona, 2)}\")"
   ]
  },
  {
   "cell_type": "markdown",
   "metadata": {},
   "source": [
    "### Ejercicio 2: Conversor de Temperatura"
   ]
  },
  {
   "cell_type": "code",
   "execution_count": null,
   "metadata": {},
   "outputs": [],
   "source": [
    "# TODO: Completa este programa para convertir temperaturas\n",
    "\n",
    "# Temperatura en Celsius\n",
    "celsius = 25\n",
    "\n",
    "# Conversiones\n",
    "fahrenheit = (celsius * 9/5) + 32\n",
    "kelvin = celsius + 273.15\n",
    "\n",
    "# Mostrar resultados\n",
    "print(\"🌡️ CONVERSOR DE TEMPERATURA\")\n",
    "print(\"=\" * 35)\n",
    "print(f\"{celsius}°C equivale a:\")\n",
    "print(f\"   {round(fahrenheit, 2)}°F\")\n",
    "print(f\"   {round(kelvin, 2)}K\")"
   ]
  },
  {
   "cell_type": "markdown",
   "metadata": {},
   "source": [
    "### Ejercicio 3: Análisis de Datos Básico"
   ]
  },
  {
   "cell_type": "code",
   "execution_count": null,
   "metadata": {},
   "outputs": [],
   "source": [
    "# TODO: Completa este programa para analizar ventas\n",
    "\n",
    "# Datos de ventas de la semana (en miles de pesos)\n",
    "lunes = 45.5\n",
    "martes = 52.3\n",
    "miercoles = 38.7\n",
    "jueves = 61.2\n",
    "viernes = 58.9\n",
    "sabado = 72.1\n",
    "domingo = 34.6\n",
    "\n",
    "# Cálculos\n",
    "total_semana = lunes + martes + miercoles + jueves + viernes + sabado + domingo\n",
    "promedio_diario = total_semana / 7\n",
    "mejor_dia = max(lunes, martes, miercoles, jueves, viernes, sabado, domingo)\n",
    "peor_dia = min(lunes, martes, miercoles, jueves, viernes, sabado, domingo)\n",
    "\n",
    "# Reporte\n",
    "print(\"📊 REPORTE DE VENTAS SEMANAL\")\n",
    "print(\"=\" * 35)\n",
    "print(f\"Total de la semana: ${total_semana:.2f}k\")\n",
    "print(f\"Promedio diario: ${promedio_diario:.2f}k\")\n",
    "print(f\"Mejor día: ${mejor_dia}k\")\n",
    "print(f\"Peor día: ${peor_dia}k\")\n",
    "print(f\"Diferencia: ${mejor_dia - peor_dia:.2f}k\")"
   ]
  },
  {
   "cell_type": "markdown",
   "metadata": {},
   "source": [
    "## 8. Trabajando con Input del Usuario\n",
    "\n",
    "Vamos a crear un programa interactivo:"
   ]
  },
  {
   "cell_type": "code",
   "execution_count": null,
   "metadata": {},
   "outputs": [],
   "source": [
    "# Programa interactivo para calcular el IMC (Índice de Masa Corporal)\n",
    "print(\"🏃‍♂️ CALCULADORA DE IMC\")\n",
    "print(\"=\" * 25)\n",
    "\n",
    "# Solicitar datos al usuario\n",
    "nombre = input(\"Ingresa tu nombre: \")\n",
    "peso = float(input(\"Ingresa tu peso en kg: \"))\n",
    "altura = float(input(\"Ingresa tu altura en metros (ej: 1.75): \"))\n",
    "\n",
    "# Calcular IMC\n",
    "imc = peso / (altura ** 2)\n",
    "\n",
    "# Mostrar resultado\n",
    "print(f\"\\n📋 Resultados para {nombre}:\")\n",
    "print(f\"   Peso: {peso} kg\")\n",
    "print(f\"   Altura: {altura} m\")\n",
    "print(f\"   IMC: {round(imc, 2)}\")\n",
    "\n",
    "# Interpretación básica\n",
    "if imc < 18.5:\n",
    "    categoria = \"Bajo peso\"\n",
    "elif imc < 25:\n",
    "    categoria = \"Peso normal\"\n",
    "elif imc < 30:\n",
    "    categoria = \"Sobrepeso\"\n",
    "else:\n",
    "    categoria = \"Obesidad\"\n",
    "\n",
    "print(f\"   Categoría: {categoria}\")"
   ]
  },
  {
   "cell_type": "markdown",
   "metadata": {},
   "source": [
    "## 9. 🎯 Desafío Final\n",
    "\n",
    "Crea un programa que simule una calculadora de gastos mensuales:"
   ]
  },
  {
   "cell_type": "code",
   "execution_count": null,
   "metadata": {},
   "outputs": [],
   "source": [
    "# TODO: Completa este programa de gestión financiera personal\n",
    "\n",
    "print(\"💰 CALCULADORA DE PRESUPUESTO MENSUAL\")\n",
    "print(\"=\" * 40)\n",
    "\n",
    "# Ingresos\n",
    "salario = float(input(\"Ingresa tu salario mensual: $\"))\n",
    "ingresos_extra = float(input(\"Ingresa ingresos extra (si no hay, escribe 0): $\"))\n",
    "\n",
    "# Gastos fijos\n",
    "renta = float(input(\"Ingresa el costo de renta/hipoteca: $\"))\n",
    "servicios = float(input(\"Ingresa el costo de servicios (luz, agua, gas): $\"))\n",
    "comida = float(input(\"Ingresa el presupuesto para comida: $\"))\n",
    "transporte = float(input(\"Ingresa el costo de transporte: $\"))\n",
    "\n",
    "# Cálculos\n",
    "ingresos_totales = salario + ingresos_extra\n",
    "gastos_totales = renta + servicios + comida + transporte\n",
    "dinero_disponible = ingresos_totales - gastos_totales\n",
    "\n",
    "# Reporte\n",
    "print(\"\\n📊 REPORTE FINANCIERO\")\n",
    "print(\"=\" * 25)\n",
    "print(f\"Ingresos totales: ${ingresos_totales:.2f}\")\n",
    "print(f\"Gastos totales: ${gastos_totales:.2f}\")\n",
    "print(f\"Dinero disponible: ${dinero_disponible:.2f}\")\n",
    "\n",
    "# Análisis\n",
    "if dinero_disponible > 0:\n",
    "    print(f\"✅ ¡Excelente! Te sobran ${dinero_disponible:.2f}\")\n",
    "    ahorro_recomendado = dinero_disponible * 0.2\n",
    "    print(f\"💡 Recomendación: Ahorra ${ahorro_recomendado:.2f} (20% del excedente)\")\n",
    "elif dinero_disponible == 0:\n",
    "    print(\"⚠️ Estás en equilibrio, pero sin margen para imprevistos\")\n",
    "else:\n",
    "    print(f\"🚨 Atención: Te faltan ${abs(dinero_disponible):.2f}\")\n",
    "    print(\"💡 Necesitas reducir gastos o aumentar ingresos\")"
   ]
  },
  {
   "cell_type": "markdown",
   "metadata": {},
   "source": [
    "## 📝 Resumen de Conceptos Aprendidos\n",
    "\n",
    "En esta sesión hemos cubierto:\n",
    "\n",
    "✅ **Sintaxis básica**: Comentarios, indentación  \n",
    "✅ **Variables**: Creación, nomenclatura, buenas prácticas  \n",
    "✅ **Tipos de datos**: str, int, float, bool, None  \n",
    "✅ **Operadores**: Aritméticos y de comparación  \n",
    "✅ **Funciones built-in**: print(), input(), len(), type(), etc.  \n",
    "✅ **Programas interactivos**: Solicitar y procesar entrada del usuario  \n",
    "\n",
    "## 🧠 Conceptos Clave para Recordar\n",
    "\n",
    "1. **La indentación es crucial** en Python\n",
    "2. **Los nombres de variables deben ser descriptivos**\n",
    "3. **Python es sensible a mayúsculas y minúsculas**\n",
    "4. **Usa comentarios para explicar tu código**\n",
    "5. **La función `type()` te ayuda a identificar tipos de datos**\n",
    "\n",
    "## 🚀 ¿Qué sigue?\n",
    "\n",
    "En la [Sesión 2: Variables y Tipos de Datos](../Sesion_02_Variables_Tipos_Datos/) profundizaremos en:\n",
    "- Conversión entre tipos de datos\n",
    "- Manipulación de strings\n",
    "- Operaciones avanzadas con números\n",
    "- Trabajo con datos booleanos\n",
    "\n",
    "---\n",
    "\n",
    "**¡Felicidades por completar los fundamentos de Python! 🎉**"
   ]
  }
 ],
 "metadata": {
  "kernelspec": {
   "display_name": "Python 3",
   "language": "python",
   "name": "python3"
  },
  "language_info": {
   "codemirror_mode": {
    "name": "ipython",
    "version": 3
   },
   "file_extension": ".py",
   "mimetype": "text/x-python",
   "name": "python",
   "nbconvert_exporter": "python",
   "pygments_lexer": "ipython3",
   "version": "3.8.0"
  }
 },
 "nbformat": 4,
 "nbformat_minor": 4
}