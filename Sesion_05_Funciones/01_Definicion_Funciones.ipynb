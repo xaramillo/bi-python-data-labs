{
 "cells": [
  {
   "cell_type": "markdown",
   "id": "21460151",
   "metadata": {},
   "source": [
    "# ⚙️ Definición de Funciones\n",
    "\n",
    "Aprende a crear y usar funciones para organizar tu código."
   ]
  },
  {
   "cell_type": "markdown",
   "id": "24f5582d",
   "metadata": {},
   "source": [
    "## Función básica\n",
    "\n",
    "Una función se define con `def` y puede retornar valores."
   ]
  },
  {
   "cell_type": "code",
   "execution_count": 1,
   "id": "62b34c10",
   "metadata": {},
   "outputs": [],
   "source": [
    "def saludar():\n",
    "    print(\"Hola, mundo!\")\n"
   ]
  },
  {
   "cell_type": "code",
   "execution_count": 2,
   "id": "96b18392",
   "metadata": {},
   "outputs": [],
   "source": [
    "def no_hace_nada():\n",
    "    pass"
   ]
  },
  {
   "cell_type": "code",
   "execution_count": 5,
   "id": "3a034882",
   "metadata": {},
   "outputs": [
    {
     "name": "stdout",
     "output_type": "stream",
     "text": [
      "Hola, mundo!\n"
     ]
    }
   ],
   "source": [
    "\n",
    "saludar()"
   ]
  },
  {
   "cell_type": "code",
   "execution_count": 6,
   "id": "a2e47040",
   "metadata": {},
   "outputs": [],
   "source": [
    "def saludar_retorno():\n",
    "    return(\"Hola, mundo!\")"
   ]
  },
  {
   "cell_type": "code",
   "execution_count": 11,
   "id": "c8bba32e",
   "metadata": {},
   "outputs": [
    {
     "name": "stdout",
     "output_type": "stream",
     "text": [
      "Hola, mundo!\n"
     ]
    }
   ],
   "source": [
    "salida = saludar()"
   ]
  },
  {
   "cell_type": "code",
   "execution_count": 13,
   "id": "0ef6b924",
   "metadata": {},
   "outputs": [
    {
     "data": {
      "text/plain": [
       "NoneType"
      ]
     },
     "execution_count": 13,
     "metadata": {},
     "output_type": "execute_result"
    }
   ],
   "source": [
    "type(salida)"
   ]
  },
  {
   "cell_type": "markdown",
   "id": "dabe06b6",
   "metadata": {},
   "source": [
    "## Parámetros y valores de retorno"
   ]
  },
  {
   "cell_type": "code",
   "execution_count": 14,
   "id": "727e26e7",
   "metadata": {},
   "outputs": [
    {
     "name": "stdout",
     "output_type": "stream",
     "text": [
      "La suma es: 8\n"
     ]
    }
   ],
   "source": [
    "def suma(a, b):\n",
    "    return a + b\n",
    "\n",
    "resultado = suma(3, 5)\n",
    "print(f\"La suma es: {resultado}\")"
   ]
  },
  {
   "cell_type": "code",
   "execution_count": 17,
   "id": "2d89811c",
   "metadata": {},
   "outputs": [
    {
     "data": {
      "text/plain": [
       "300"
      ]
     },
     "execution_count": 17,
     "metadata": {},
     "output_type": "execute_result"
    }
   ],
   "source": [
    "suma(10,1)\n",
    "suma(100,200)"
   ]
  },
  {
   "cell_type": "markdown",
   "id": "0b183c42",
   "metadata": {},
   "source": [
    "## Funciones con múltiples parámetros (`*args`)\n",
    "\n",
    "`*args` permite pasar un número variable de argumentos."
   ]
  },
  {
   "cell_type": "code",
   "execution_count": 18,
   "id": "e0d0af36",
   "metadata": {},
   "outputs": [
    {
     "name": "stdout",
     "output_type": "stream",
     "text": [
      "10\n"
     ]
    }
   ],
   "source": [
    "def sumar_todos(*args):\n",
    "    return sum(args)\n",
    "\n",
    "print(sumar_todos(1, 2, 3, 4))"
   ]
  },
  {
   "cell_type": "code",
   "execution_count": 23,
   "id": "438d7c70",
   "metadata": {},
   "outputs": [
    {
     "data": {
      "text/plain": [
       "29"
      ]
     },
     "execution_count": 23,
     "metadata": {},
     "output_type": "execute_result"
    }
   ],
   "source": [
    "sumar_todos(4,5,2,10,5,2,1,0)"
   ]
  },
  {
   "cell_type": "markdown",
   "id": "c21273a1",
   "metadata": {},
   "source": [
    "## Funciones con parámetros nombrados (`**kwargs`)\n",
    "\n",
    "`**kwargs` permite pasar argumentos nombrados variables."
   ]
  },
  {
   "cell_type": "code",
   "execution_count": 28,
   "id": "01526d92",
   "metadata": {},
   "outputs": [
    {
     "name": "stdout",
     "output_type": "stream",
     "text": [
      "nombre: Ana\n",
      "edad: 30\n",
      "ciudad: Madrid\n"
     ]
    }
   ],
   "source": [
    "def mostrar_info(**kwargs):\n",
    "    for clave, valor in kwargs.items():\n",
    "        print(f\"{clave}: {valor}\")\n",
    "\n",
    "mostrar_info(nombre=\"Ana\", edad=30, ciudad=\"Madrid\")"
   ]
  },
  {
   "cell_type": "code",
   "execution_count": 29,
   "id": "b87dd1b0",
   "metadata": {},
   "outputs": [
    {
     "name": "stdout",
     "output_type": "stream",
     "text": [
      "nombre: Luis\n",
      "ocupación: Desarrollador\n",
      "ubicación: México\n",
      "sueldo_base: 10000\n"
     ]
    }
   ],
   "source": [
    "mostrar_info(nombre=\"Luis\",ocupación=\"Desarrollador\",ubicación=\"México\",sueldo_base=10000)"
   ]
  },
  {
   "cell_type": "markdown",
   "id": "64ebd6ab",
   "metadata": {},
   "source": [
    "## Funciones lambda\n",
    "\n",
    "Las funciones lambda son funciones anónimas y cortas."
   ]
  },
  {
   "cell_type": "code",
   "execution_count": 30,
   "id": "46b54e1b",
   "metadata": {},
   "outputs": [
    {
     "name": "stdout",
     "output_type": "stream",
     "text": [
      "20\n"
     ]
    }
   ],
   "source": [
    "multiplicar = lambda x, y: x * y\n",
    "print(multiplicar(4, 5))"
   ]
  },
  {
   "cell_type": "markdown",
   "id": "17a0c40f",
   "metadata": {},
   "source": [
    "## Caso de uso: Procesamiento de datos\n",
    "\n",
    "Aplica funciones para transformar una lista."
   ]
  },
  {
   "cell_type": "code",
   "execution_count": 31,
   "id": "1ac8ce2b",
   "metadata": {},
   "outputs": [
    {
     "name": "stdout",
     "output_type": "stream",
     "text": [
      "[1, 4, 9, 16]\n"
     ]
    }
   ],
   "source": [
    "datos = [1, 2, 3, 4]\n",
    "cuadrados = list(map(lambda x: x**2, datos))\n",
    "print(cuadrados)"
   ]
  },
  {
   "cell_type": "code",
   "execution_count": null,
   "id": "bbde30bc",
   "metadata": {},
   "outputs": [],
   "source": []
  },
  {
   "cell_type": "markdown",
   "id": "28964aa7",
   "metadata": {},
   "source": [
    "## Demostraciones de *args y **kwargs"
   ]
  },
  {
   "cell_type": "code",
   "execution_count": null,
   "id": "81880f00",
   "metadata": {},
   "outputs": [],
   "source": [
    "def sumar_precios(*precios):\n",
    "    \"\"\"\n",
    "    Función con *args para sumar todos los precios\n",
    "    \"\"\"\n",
    "    return(round(sum(precios),2))"
   ]
  },
  {
   "cell_type": "code",
   "execution_count": 33,
   "id": "d8037c33",
   "metadata": {},
   "outputs": [
    {
     "data": {
      "text/plain": [
       "289.98"
      ]
     },
     "execution_count": 33,
     "metadata": {},
     "output_type": "execute_result"
    }
   ],
   "source": [
    "sumar_precios(89.50,13.25,87.23,100.0)"
   ]
  },
  {
   "cell_type": "code",
   "execution_count": 34,
   "id": "29e927f5",
   "metadata": {},
   "outputs": [],
   "source": [
    "def promediar_precios(*precios):\n",
    "    \"\"\"\n",
    "    Función con *args para sumar todos los precios\n",
    "    \"\"\"\n",
    "    result = sum(precios) / len(precios)\n",
    "    print(result)"
   ]
  },
  {
   "cell_type": "code",
   "execution_count": 35,
   "id": "a4ca366a",
   "metadata": {},
   "outputs": [
    {
     "name": "stdout",
     "output_type": "stream",
     "text": [
      "72.495\n"
     ]
    }
   ],
   "source": [
    "promediar_precios(89.50,13.25,87.23,100.0)"
   ]
  },
  {
   "cell_type": "code",
   "execution_count": 36,
   "id": "3489a99f",
   "metadata": {},
   "outputs": [],
   "source": [
    "def aplicar_descuentos_1(*precios,descuento):\n",
    "    \"\"\"\n",
    "    Aplica un descuento que va del 0 a 1\n",
    "    \"\"\"\n",
    "    result = []\n",
    "    for i in precios:\n",
    "        result.append( i * (1-descuento) )\n",
    "    return result"
   ]
  },
  {
   "cell_type": "code",
   "execution_count": 37,
   "id": "057cc370",
   "metadata": {},
   "outputs": [
    {
     "data": {
      "text/plain": [
       "[76.075, 11.2625, 74.1455, 85.0]"
      ]
     },
     "execution_count": 37,
     "metadata": {},
     "output_type": "execute_result"
    }
   ],
   "source": [
    "aplicar_descuentos_1(89.50,13.25,87.23,100.0,descuento=0.15)"
   ]
  },
  {
   "cell_type": "code",
   "execution_count": null,
   "id": "dad5c7bb",
   "metadata": {},
   "outputs": [],
   "source": [
    "def aplicar_descuentos_2(*precios,descuento=0):\n",
    "    return [ i * (1 - descuento) for i in precios]"
   ]
  },
  {
   "cell_type": "code",
   "execution_count": 41,
   "id": "76b69fc3",
   "metadata": {},
   "outputs": [
    {
     "data": {
      "text/plain": [
       "[85.02499999999999, 12.587499999999999, 82.8685, 95.0]"
      ]
     },
     "execution_count": 41,
     "metadata": {},
     "output_type": "execute_result"
    }
   ],
   "source": [
    "aplicar_descuentos_2(89.50,13.25,87.23,100.0,descuento=0.05)"
   ]
  },
  {
   "cell_type": "code",
   "execution_count": 47,
   "id": "de9f5330",
   "metadata": {},
   "outputs": [],
   "source": [
    "def calcular_total_productos(**productos):\n",
    "    # En python los kwargs se guardan como diccionarios\n",
    "    print(f\"Productos: {productos.items()}\")\n",
    "    return sum(productos.values())"
   ]
  },
  {
   "cell_type": "code",
   "execution_count": 48,
   "id": "e7521945",
   "metadata": {},
   "outputs": [
    {
     "name": "stdout",
     "output_type": "stream",
     "text": [
      "Productos: dict_items([('manzana', 15.0), ('plátano', 45.5), ('piña', 13.87), ('uva', 99.0)])\n"
     ]
    },
    {
     "data": {
      "text/plain": [
       "173.37"
      ]
     },
     "execution_count": 48,
     "metadata": {},
     "output_type": "execute_result"
    }
   ],
   "source": [
    "calcular_total_productos(manzana=15.0,plátano=45.50,piña=13.87,uva=99.00)"
   ]
  }
 ],
 "metadata": {
  "kernelspec": {
   "display_name": "Python 3",
   "language": "python",
   "name": "python3"
  },
  "language_info": {
   "codemirror_mode": {
    "name": "ipython",
    "version": 3
   },
   "file_extension": ".py",
   "mimetype": "text/x-python",
   "name": "python",
   "nbconvert_exporter": "python",
   "pygments_lexer": "ipython3",
   "version": "3.13.7"
  }
 },
 "nbformat": 4,
 "nbformat_minor": 5
}
