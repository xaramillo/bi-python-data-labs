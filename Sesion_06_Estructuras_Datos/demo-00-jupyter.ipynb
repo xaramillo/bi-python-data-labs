{
 "cells": [
  {
   "cell_type": "markdown",
   "id": "e0be6960",
   "metadata": {},
   "source": [
    "# Título de la libreta"
   ]
  },
  {
   "cell_type": "markdown",
   "id": "e8c33bf6",
   "metadata": {},
   "source": [
    "## Subtitulo de trabajo en la clase"
   ]
  },
  {
   "cell_type": "markdown",
   "id": "1fff53a0",
   "metadata": {},
   "source": [
    "Un párrafo que describe la **actividad** que estamos realizando. Y algunas _ideas_ que vayan a explicar la sección en nuestra ~~libreta~~."
   ]
  },
  {
   "cell_type": "code",
   "execution_count": 1,
   "id": "94932177",
   "metadata": {},
   "outputs": [],
   "source": [
    "import sys"
   ]
  },
  {
   "cell_type": "code",
   "execution_count": 2,
   "id": "5a350bf9",
   "metadata": {},
   "outputs": [
    {
     "name": "stdout",
     "output_type": "stream",
     "text": [
      "Hola mundo!\n"
     ]
    }
   ],
   "source": [
    "print(\"Hola mundo!\")"
   ]
  },
  {
   "cell_type": "code",
   "execution_count": 5,
   "id": "e73d335e",
   "metadata": {},
   "outputs": [],
   "source": [
    "def funcion_hola(nombre=\"mundo\"):\n",
    "    print(sys.version)\n",
    "    print(f\"Hola, {nombre}!\")"
   ]
  },
  {
   "cell_type": "code",
   "execution_count": 7,
   "id": "6611c4cd",
   "metadata": {},
   "outputs": [],
   "source": [
    "import sys"
   ]
  },
  {
   "cell_type": "code",
   "execution_count": 8,
   "id": "1544e3f4",
   "metadata": {},
   "outputs": [
    {
     "name": "stdout",
     "output_type": "stream",
     "text": [
      "3.13.7 (tags/v3.13.7:bcee1c3, Aug 14 2025, 14:15:11) [MSC v.1944 64 bit (AMD64)]\n",
      "Hola, mundo!\n"
     ]
    }
   ],
   "source": [
    "funcion_hola()"
   ]
  },
  {
   "cell_type": "markdown",
   "id": "928e29c3",
   "metadata": {},
   "source": [
    "## Otra sección"
   ]
  },
  {
   "cell_type": "code",
   "execution_count": null,
   "id": "a57c388b",
   "metadata": {},
   "outputs": [],
   "source": []
  }
 ],
 "metadata": {
  "kernelspec": {
   "display_name": "Python 3",
   "language": "python",
   "name": "python3"
  },
  "language_info": {
   "codemirror_mode": {
    "name": "ipython",
    "version": 3
   },
   "file_extension": ".py",
   "mimetype": "text/x-python",
   "name": "python",
   "nbconvert_exporter": "python",
   "pygments_lexer": "ipython3",
   "version": "3.13.7"
  }
 },
 "nbformat": 4,
 "nbformat_minor": 5
}
